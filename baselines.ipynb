{
  "cells": [
    {
      "cell_type": "markdown",
      "source": [
        "👕В этом ноутбуке проверяются два алгоритма классического ML (**наивный Байес и логистическая регрессия**) на задаче классификации товаров по описанию.\n",
        "\n",
        "🏆Лучший результат (**0.74**): логистическая регрессия, обученная на TF-IDF и категориальном признаке shop_id."
      ],
      "metadata": {
        "id": "VaFShe4K4_b3"
      }
    },
    {
      "cell_type": "markdown",
      "source": [
        "#Подготовка данных"
      ],
      "metadata": {
        "id": "Z-xeYQA8uUzp"
      }
    },
    {
      "cell_type": "code",
      "execution_count": null,
      "metadata": {
        "colab": {
          "base_uri": "https://localhost:8080/"
        },
        "id": "hLc3uAmTVyjo",
        "outputId": "c96b6304-2a63-472c-88fb-4309da33c3d7"
      },
      "outputs": [
        {
          "output_type": "stream",
          "name": "stdout",
          "text": [
            "Mounted at /content/drive\n"
          ]
        }
      ],
      "source": [
        "from google.colab import drive\n",
        "drive.mount('/content/drive', force_remount=True)"
      ]
    },
    {
      "cell_type": "code",
      "execution_count": null,
      "metadata": {
        "id": "-u1Zp2jScEDg"
      },
      "outputs": [],
      "source": [
        "!unzip -qq '/content/drive/MyDrive/internship_2023.zip'"
      ]
    },
    {
      "cell_type": "code",
      "source": [
        "from sklearn.metrics import f1_score, classification_report\n",
        "from utils import get_description, RANDOM_STATE"
      ],
      "metadata": {
        "id": "rPFos4xLqwqa"
      },
      "execution_count": null,
      "outputs": []
    },
    {
      "cell_type": "markdown",
      "source": [
        "Загружаем датасет и обрабатываем описание товаров"
      ],
      "metadata": {
        "id": "ktUQM_Q6rdzs"
      }
    },
    {
      "cell_type": "code",
      "execution_count": null,
      "metadata": {
        "id": "yywHihDqfwSP"
      },
      "outputs": [],
      "source": [
        "df = pd.read_parquet('train.parquet').reset_index().dropna(subset=['category_id'])\n",
        "df['description'] = pd.Series(map(get_description, df.text_fields))"
      ]
    },
    {
      "cell_type": "markdown",
      "source": [
        "Делим данные на обучающие и валидационные"
      ],
      "metadata": {
        "id": "use-wu8PuMsi"
      }
    },
    {
      "cell_type": "code",
      "source": [
        "from sklearn.model_selection import train_test_split\n",
        "df_train, df_val = train_test_split(df, random_state=RANDOM_STATE)"
      ],
      "metadata": {
        "id": "fuWiQFcDmL3b"
      },
      "execution_count": null,
      "outputs": []
    },
    {
      "cell_type": "code",
      "source": [
        "import numpy as np\n",
        "def get_data(df):\n",
        "  texts = np.array(df.description.fillna(''))\n",
        "  shop_ids = np.array(df.shop_id.fillna(''))\n",
        "  y = np.array(df.category_id)\n",
        "  return texts, shop_ids, y"
      ],
      "metadata": {
        "id": "HARay3dm1LzD"
      },
      "execution_count": null,
      "outputs": []
    },
    {
      "cell_type": "markdown",
      "source": [
        "Создаем класс, который преобразует текст в набор признаков TF-IDF, и кодирует shop_id товаров"
      ],
      "metadata": {
        "id": "dVrYmWjbukpI"
      }
    },
    {
      "cell_type": "code",
      "execution_count": null,
      "metadata": {
        "id": "J4Lw5i4gMQwd"
      },
      "outputs": [],
      "source": [
        "from sklearn.base import BaseEstimator, TransformerMixin\n",
        "from sklearn.preprocessing import OneHotEncoder\n",
        "from scipy.sparse import hstack\n",
        "class Vectorizer(BaseEstimator,TransformerMixin):\n",
        "  def __init__(self, df):\n",
        "    self.shop_unique = df.shop_id.unique()\n",
        "    self.shop_id2categorical = dict(zip(map(lambda i: i.item(), self.shop_unique), range(len(self.shop_unique))))\n",
        "    self.one_hot_enc = OneHotEncoder()\n",
        "    self.tf_idf = TfidfTransformer()\n",
        "    self.one_hot_enc.fit(np.arange(len(self.shop_unique)).reshape(-1,1))\n",
        "  def fit(self, X, y=None):\n",
        "    self.tf_idf.fit(X[0])\n",
        "    return self\n",
        "  def transform(self, X, y=None):\n",
        "    bow, shop_ids = X\n",
        "    shop_ids_vectorized = list(map(self.shop_id2categorical.get, shop_ids))\n",
        "    one_hot_shop_id = self.one_hot_enc.transform(np.asarray(shop_ids_vectorized).reshape(-1,1))\n",
        "    tf_idf = self.tf_idf.transform(bow)\n",
        "    return hstack((tf_idf, one_hot_shop_id))"
      ]
    },
    {
      "cell_type": "markdown",
      "source": [
        "Инициализируем классы для отбора признаков."
      ],
      "metadata": {
        "id": "TSAOmzR3xpgH"
      }
    },
    {
      "cell_type": "code",
      "execution_count": null,
      "metadata": {
        "colab": {
          "base_uri": "https://localhost:8080/"
        },
        "id": "7mNJz_U3wUs4",
        "outputId": "f202c3b3-dabd-4338-d962-86ec97bc30de"
      },
      "outputs": [
        {
          "output_type": "stream",
          "name": "stderr",
          "text": [
            "[nltk_data] Downloading package punkt to /root/nltk_data...\n",
            "[nltk_data]   Package punkt is already up-to-date!\n"
          ]
        }
      ],
      "source": [
        "from sklearn.feature_extraction.text import CountVectorizer, TfidfTransformer\n",
        "from sklearn.pipeline import FeatureUnion\n",
        "from sklearn.feature_selection import SelectPercentile, chi2\n",
        "import nltk \n",
        "nltk.download('punkt')\n",
        "\n",
        "#представляет текст в виде мешка слов\n",
        "count_vectorizer = CountVectorizer(lowercase=True, tokenizer=nltk.word_tokenize)\n",
        "#преобразует текст в набор признаков TF-IDF\n",
        "tf_idf = TfidfTransformer()\n",
        "#преобразует текст в набор признаков TF-IDF, и кодирует shop_id товаров\n",
        "vectorizer = Vectorizer(df)\n",
        "#отбирает 20% признаков, наиболее важных для классификации при критерию хи-квадрат\n",
        "selector = SelectPercentile(chi2, percentile=20)"
      ]
    },
    {
      "cell_type": "code",
      "source": [
        "texts_train, shop_ids_train, y_train = get_data(df_train)\n",
        "texts_val, shop_ids_val, y_val = get_data(df_val)\n",
        "\n",
        "bow_train = count_vectorizer.fit_transform(texts_train)\n",
        "bow_val = count_vectorizer.transform(texts_val)\n",
        "\n",
        "tf_idf_train = tf_idf.fit_transform(bow_train)\n",
        "tf_idf_val = tf_idf.transform(bow_val)\n",
        "\n",
        "X_train = vectorizer.fit_transform((bow_train, shop_ids_train))\n",
        "X_val = vectorizer.transform((bow_val, shop_ids_val))"
      ],
      "metadata": {
        "id": "8bsMWBr4mcCw"
      },
      "execution_count": null,
      "outputs": []
    },
    {
      "cell_type": "markdown",
      "source": [
        "#Наивный Байес"
      ],
      "metadata": {
        "id": "qt-sTlRnykJr"
      }
    },
    {
      "cell_type": "code",
      "execution_count": null,
      "metadata": {
        "id": "Pm92tNIqASZ-"
      },
      "outputs": [],
      "source": [
        "from sklearn.naive_bayes import MultinomialNB\n",
        "nb = MultinomialNB()\n",
        "\n",
        "nb_pipeline = Pipeline([\n",
        "        ('selector', selector),\n",
        "        ('final_classifier', nb)\n",
        "    ])"
      ]
    },
    {
      "cell_type": "markdown",
      "source": [
        "Наивный Байес на мешке слов"
      ],
      "metadata": {
        "id": "pjODNVNOyvZV"
      }
    },
    {
      "cell_type": "code",
      "source": [
        "experiment_name = f'naive_bayes_bow'\n",
        "nb_pipeline.fit(bow_train, y_train)\n",
        "predictions = nb_pipeline.predict(bow_val)\n",
        "print(f'F1 for the \"{experiment_name}\" experiment: {f1_score(y_val, predictions, average=\"weighted\")}')\n",
        "save_metrics(experiment_name, y_val, predictions)"
      ],
      "metadata": {
        "colab": {
          "base_uri": "https://localhost:8080/"
        },
        "id": "Bu9PIMXoBUHm",
        "outputId": "7ed01337-7df4-4ff5-f28e-fb4d43dd4b26"
      },
      "execution_count": null,
      "outputs": [
        {
          "output_type": "stream",
          "name": "stdout",
          "text": [
            "F1 for the \"naive_bayes_bow\" experiment: 0.5280035968327977\n",
            "Metrics saved to /content/drive/MyDrive/KazanExpress/metrics/naive_bayes_bow.csv\n"
          ]
        },
        {
          "output_type": "stream",
          "name": "stderr",
          "text": [
            "/usr/local/lib/python3.9/dist-packages/sklearn/metrics/_classification.py:1344: UndefinedMetricWarning: Precision and F-score are ill-defined and being set to 0.0 in labels with no predicted samples. Use `zero_division` parameter to control this behavior.\n",
            "  _warn_prf(average, modifier, msg_start, len(result))\n",
            "/usr/local/lib/python3.9/dist-packages/sklearn/metrics/_classification.py:1344: UndefinedMetricWarning: Precision and F-score are ill-defined and being set to 0.0 in labels with no predicted samples. Use `zero_division` parameter to control this behavior.\n",
            "  _warn_prf(average, modifier, msg_start, len(result))\n",
            "/usr/local/lib/python3.9/dist-packages/sklearn/metrics/_classification.py:1344: UndefinedMetricWarning: Precision and F-score are ill-defined and being set to 0.0 in labels with no predicted samples. Use `zero_division` parameter to control this behavior.\n",
            "  _warn_prf(average, modifier, msg_start, len(result))\n"
          ]
        }
      ]
    },
    {
      "cell_type": "markdown",
      "source": [
        "Наивный Байес на TF-IDF"
      ],
      "metadata": {
        "id": "meSxJ9-_yzzH"
      }
    },
    {
      "cell_type": "code",
      "source": [
        "experiment_name = f'naive_bayes_tfidf'\n",
        "nb_pipeline.fit(tf_idf_train, y_train)\n",
        "predictions = nb_pipeline.predict(tf_idf_val)\n",
        "print(f'F1 for the \"{experiment_name}\" experiment: {f1_score(y_val, predictions, average=\"weighted\")}')\n",
        "save_metrics(experiment_name, y_val, predictions)"
      ],
      "metadata": {
        "colab": {
          "base_uri": "https://localhost:8080/"
        },
        "id": "l-470xwJO3Bg",
        "outputId": "f75c40ec-e205-4594-d2ae-5dd32eb21356"
      },
      "execution_count": null,
      "outputs": [
        {
          "output_type": "stream",
          "name": "stdout",
          "text": [
            "F1 for the \"naive_bayes_tfidf\" experiment: 0.2981906279608247\n",
            "Metrics saved to /content/drive/MyDrive/KazanExpress/metrics/naive_bayes_tfidf.csv\n"
          ]
        },
        {
          "output_type": "stream",
          "name": "stderr",
          "text": [
            "/usr/local/lib/python3.9/dist-packages/sklearn/metrics/_classification.py:1344: UndefinedMetricWarning: Precision and F-score are ill-defined and being set to 0.0 in labels with no predicted samples. Use `zero_division` parameter to control this behavior.\n",
            "  _warn_prf(average, modifier, msg_start, len(result))\n",
            "/usr/local/lib/python3.9/dist-packages/sklearn/metrics/_classification.py:1344: UndefinedMetricWarning: Precision and F-score are ill-defined and being set to 0.0 in labels with no predicted samples. Use `zero_division` parameter to control this behavior.\n",
            "  _warn_prf(average, modifier, msg_start, len(result))\n",
            "/usr/local/lib/python3.9/dist-packages/sklearn/metrics/_classification.py:1344: UndefinedMetricWarning: Precision and F-score are ill-defined and being set to 0.0 in labels with no predicted samples. Use `zero_division` parameter to control this behavior.\n",
            "  _warn_prf(average, modifier, msg_start, len(result))\n"
          ]
        }
      ]
    },
    {
      "cell_type": "markdown",
      "source": [
        "Наивный Байес на TF-IDF с учетом shop_id\n",
        "\n"
      ],
      "metadata": {
        "id": "dGcn3rDky3pa"
      }
    },
    {
      "cell_type": "code",
      "source": [
        "experiment_name = f'naive_bayes_tfidf_shop_id'\n",
        "nb_pipeline.fit(X_train, y_train)\n",
        "predictions = nb_pipeline.predict(X_val)\n",
        "print(f'F1 for the \"{experiment_name}\" experiment: {f1_score(y_val, predictions, average=\"weighted\")}')\n",
        "save_metrics(experiment_name, y_val, predictions)"
      ],
      "metadata": {
        "colab": {
          "base_uri": "https://localhost:8080/"
        },
        "id": "3yQm5SpsO6KB",
        "outputId": "fc92fdf6-a317-4814-966e-55d8098504a9"
      },
      "execution_count": null,
      "outputs": [
        {
          "output_type": "stream",
          "name": "stdout",
          "text": [
            "F1 for the \"naive_bayes_tfidf_shop_id\" experiment: 0.3615729104297685\n",
            "Metrics saved to /content/drive/MyDrive/KazanExpress/metrics/naive_bayes_tfidf_shop_id.csv\n"
          ]
        },
        {
          "output_type": "stream",
          "name": "stderr",
          "text": [
            "/usr/local/lib/python3.9/dist-packages/sklearn/metrics/_classification.py:1344: UndefinedMetricWarning: Precision and F-score are ill-defined and being set to 0.0 in labels with no predicted samples. Use `zero_division` parameter to control this behavior.\n",
            "  _warn_prf(average, modifier, msg_start, len(result))\n",
            "/usr/local/lib/python3.9/dist-packages/sklearn/metrics/_classification.py:1344: UndefinedMetricWarning: Precision and F-score are ill-defined and being set to 0.0 in labels with no predicted samples. Use `zero_division` parameter to control this behavior.\n",
            "  _warn_prf(average, modifier, msg_start, len(result))\n",
            "/usr/local/lib/python3.9/dist-packages/sklearn/metrics/_classification.py:1344: UndefinedMetricWarning: Precision and F-score are ill-defined and being set to 0.0 in labels with no predicted samples. Use `zero_division` parameter to control this behavior.\n",
            "  _warn_prf(average, modifier, msg_start, len(result))\n"
          ]
        }
      ]
    },
    {
      "cell_type": "code",
      "execution_count": null,
      "metadata": {
        "id": "ZejohPHkVeqo"
      },
      "outputs": [],
      "source": [
        "from sklearn.linear_model import LogisticRegression\n",
        "logreg = LogisticRegression(solver='saga', verbose=True, n_jobs=-1)\n",
        "\n",
        "logreg_pipeline = Pipeline([\n",
        "        ('selector', selector),\n",
        "        ('final_classifier', logreg)\n",
        "    ])"
      ]
    },
    {
      "cell_type": "markdown",
      "source": [
        "#Логистическая регрессия"
      ],
      "metadata": {
        "id": "QeY7802AyqCP"
      }
    },
    {
      "cell_type": "markdown",
      "source": [
        "Логистическая регрессия на мешке слов"
      ],
      "metadata": {
        "id": "ZQHQk2qpzFcU"
      }
    },
    {
      "cell_type": "code",
      "source": [
        "experiment_name = f'logistic_regression_bow'\n",
        "logreg_pipeline.fit(bow_train, y_train)\n",
        "predictions = logreg_pipeline.predict(bow_val)\n",
        "print(f'F1 for the \"{experiment_name}\" experiment: {f1_score(y_val, predictions, average=\"weighted\")}')\n",
        "save_metrics(experiment_name, y_val, predictions)"
      ],
      "metadata": {
        "colab": {
          "base_uri": "https://localhost:8080/"
        },
        "id": "Iir0AxoIZ8Xd",
        "outputId": "f855d0b3-87b7-45ec-f29c-402631762f87"
      },
      "execution_count": null,
      "outputs": [
        {
          "output_type": "stream",
          "name": "stdout",
          "text": [
            "F1 for the \"logistic_regression_bow\" experiment: 0.15841273839537479\n",
            "Metrics saved to /content/drive/MyDrive/KazanExpress/metrics/logistic_regression_bow.csv\n"
          ]
        },
        {
          "output_type": "stream",
          "name": "stderr",
          "text": [
            "/usr/local/lib/python3.9/dist-packages/sklearn/metrics/_classification.py:1344: UndefinedMetricWarning: Precision and F-score are ill-defined and being set to 0.0 in labels with no predicted samples. Use `zero_division` parameter to control this behavior.\n",
            "  _warn_prf(average, modifier, msg_start, len(result))\n",
            "/usr/local/lib/python3.9/dist-packages/sklearn/metrics/_classification.py:1344: UndefinedMetricWarning: Precision and F-score are ill-defined and being set to 0.0 in labels with no predicted samples. Use `zero_division` parameter to control this behavior.\n",
            "  _warn_prf(average, modifier, msg_start, len(result))\n",
            "/usr/local/lib/python3.9/dist-packages/sklearn/metrics/_classification.py:1344: UndefinedMetricWarning: Precision and F-score are ill-defined and being set to 0.0 in labels with no predicted samples. Use `zero_division` parameter to control this behavior.\n",
            "  _warn_prf(average, modifier, msg_start, len(result))\n"
          ]
        }
      ]
    },
    {
      "cell_type": "markdown",
      "source": [
        "Логистическая регрессия на TF-IDF"
      ],
      "metadata": {
        "id": "UVd0eQW3zEWb"
      }
    },
    {
      "cell_type": "code",
      "source": [
        "experiment_name = f'logistic_regression_tfidf'\n",
        "logreg_pipeline.fit(tf_idf_train, y_train)\n",
        "predictions = logreg_pipeline.predict(tf_idf_val)\n",
        "print(f'F1 for the \"{experiment_name}\" experiment: {f1_score(y_val, predictions, average=\"weighted\")}')\n",
        "save_metrics(experiment_name, y_val, predictions)"
      ],
      "metadata": {
        "colab": {
          "base_uri": "https://localhost:8080/"
        },
        "id": "CDYw3RH_PWh8",
        "outputId": "38c0e65f-d90e-471d-dcd6-573cf532e9f0"
      },
      "execution_count": null,
      "outputs": [
        {
          "output_type": "stream",
          "name": "stderr",
          "text": [
            "[Parallel(n_jobs=-1)]: Using backend ThreadingBackend with 2 concurrent workers.\n"
          ]
        },
        {
          "output_type": "stream",
          "name": "stdout",
          "text": [
            "convergence after 19 epochs took 376 seconds\n"
          ]
        },
        {
          "output_type": "stream",
          "name": "stderr",
          "text": [
            "[Parallel(n_jobs=-1)]: Done   1 out of   1 | elapsed:  6.3min finished\n"
          ]
        },
        {
          "output_type": "stream",
          "name": "stdout",
          "text": [
            "F1 for the \"logistic_regression_tfidf\" experiment: 0.7255188172878155\n",
            "Metrics saved to /content/drive/MyDrive/KazanExpress/metrics/logistic_regression_tfidf.csv\n"
          ]
        },
        {
          "output_type": "stream",
          "name": "stderr",
          "text": [
            "/usr/local/lib/python3.9/dist-packages/sklearn/metrics/_classification.py:1344: UndefinedMetricWarning: Precision and F-score are ill-defined and being set to 0.0 in labels with no predicted samples. Use `zero_division` parameter to control this behavior.\n",
            "  _warn_prf(average, modifier, msg_start, len(result))\n",
            "/usr/local/lib/python3.9/dist-packages/sklearn/metrics/_classification.py:1344: UndefinedMetricWarning: Precision and F-score are ill-defined and being set to 0.0 in labels with no predicted samples. Use `zero_division` parameter to control this behavior.\n",
            "  _warn_prf(average, modifier, msg_start, len(result))\n",
            "/usr/local/lib/python3.9/dist-packages/sklearn/metrics/_classification.py:1344: UndefinedMetricWarning: Precision and F-score are ill-defined and being set to 0.0 in labels with no predicted samples. Use `zero_division` parameter to control this behavior.\n",
            "  _warn_prf(average, modifier, msg_start, len(result))\n"
          ]
        }
      ]
    },
    {
      "cell_type": "markdown",
      "source": [
        "Логистическая регрессия на TF-IDF с учетом shop_id"
      ],
      "metadata": {
        "id": "npR7cpBmy_hQ"
      }
    },
    {
      "cell_type": "code",
      "source": [
        "experiment_name = f'logistic_regression__tfidf_shop_id'\n",
        "logreg_pipeline.fit(X_train, y_train)\n",
        "predictions = logreg_pipeline.predict(X_val)\n",
        "print(f'F1 for the \"{experiment_name}\" experiment: {f1_score(y_val, predictions, average=\"weighted\")}')\n",
        "save_metrics(experiment_name, y_val, predictions)"
      ],
      "metadata": {
        "colab": {
          "base_uri": "https://localhost:8080/"
        },
        "id": "3YBnvy7APW5o",
        "outputId": "5efae2bb-77ed-4dd4-aaeb-552104b4eef7"
      },
      "execution_count": null,
      "outputs": [
        {
          "output_type": "stream",
          "name": "stderr",
          "text": [
            "[Parallel(n_jobs=-1)]: Using backend ThreadingBackend with 2 concurrent workers.\n"
          ]
        },
        {
          "output_type": "stream",
          "name": "stdout",
          "text": [
            "convergence after 22 epochs took 413 seconds\n"
          ]
        },
        {
          "output_type": "stream",
          "name": "stderr",
          "text": [
            "[Parallel(n_jobs=-1)]: Done   1 out of   1 | elapsed:  6.9min finished\n"
          ]
        },
        {
          "output_type": "stream",
          "name": "stdout",
          "text": [
            "F1 for the \"logistic_regression__tfidf_shop_id\" experiment: 0.741626367750366\n",
            "Metrics saved to /content/drive/MyDrive/KazanExpress/metrics/logistic_regression__tfidf_shop_id.csv\n"
          ]
        },
        {
          "output_type": "stream",
          "name": "stderr",
          "text": [
            "/usr/local/lib/python3.9/dist-packages/sklearn/metrics/_classification.py:1344: UndefinedMetricWarning: Precision and F-score are ill-defined and being set to 0.0 in labels with no predicted samples. Use `zero_division` parameter to control this behavior.\n",
            "  _warn_prf(average, modifier, msg_start, len(result))\n",
            "/usr/local/lib/python3.9/dist-packages/sklearn/metrics/_classification.py:1344: UndefinedMetricWarning: Precision and F-score are ill-defined and being set to 0.0 in labels with no predicted samples. Use `zero_division` parameter to control this behavior.\n",
            "  _warn_prf(average, modifier, msg_start, len(result))\n",
            "/usr/local/lib/python3.9/dist-packages/sklearn/metrics/_classification.py:1344: UndefinedMetricWarning: Precision and F-score are ill-defined and being set to 0.0 in labels with no predicted samples. Use `zero_division` parameter to control this behavior.\n",
            "  _warn_prf(average, modifier, msg_start, len(result))\n"
          ]
        }
      ]
    },
    {
      "cell_type": "markdown",
      "source": [
        "#Вывод"
      ],
      "metadata": {
        "id": "WvG-vEi-zKAT"
      }
    },
    {
      "cell_type": "markdown",
      "source": [
        "**Наивный байесовский классификатор** обучается быстро (несколько секунд), но по качеству уступает логистической регрессии. Любопытно, что для этого алгоритма метрика при обучении на мешке слов (0.53) намного выше, чем метрика, полученная при его обучении на TF-IDF (0.3). Возможно, это связано с тем, что TF-IDF в большей степени нарушает предположение об отсутствии корреляции между данными.\n",
        "\n",
        "**Логистическая регрессия** обучается дольше. Для мешка слов потребовалось больше 40 минут, для TF-IDF - 7-8 минут. При этом на мешке слов получено очень низкое качество (0.15), видимо этих признаков недостаточно для обучения модели. \n",
        "\n",
        "**Лучший результат (0.74) показала логистическая регрессия, обученная на признаках TF-IDF с учетом shop_id.**"
      ],
      "metadata": {
        "id": "AdOlmPfg0G5S"
      }
    },
    {
      "cell_type": "code",
      "source": [
        "print(classification_report(y_val, predictions))"
      ],
      "metadata": {
        "colab": {
          "base_uri": "https://localhost:8080/"
        },
        "id": "JOC8lFeNzZtk",
        "outputId": "cadf70ac-d7bf-4d3c-b507-9084731d032e"
      },
      "execution_count": null,
      "outputs": [
        {
          "output_type": "stream",
          "name": "stdout",
          "text": [
            "              precision    recall  f1-score   support\n",
            "\n",
            "        2599       0.75      0.94      0.83        32\n",
            "        2600       0.00      0.00      0.00         3\n",
            "        2601       0.40      0.38      0.39        21\n",
            "        2602       0.62      0.42      0.50        12\n",
            "        2605       0.00      0.00      0.00        10\n",
            "        2725       0.94      0.85      0.89        20\n",
            "        2726       0.79      0.83      0.81        18\n",
            "        2727       1.00      0.04      0.08        25\n",
            "        2728       0.77      0.77      0.77        43\n",
            "        2729       0.86      0.75      0.80        16\n",
            "        2730       0.90      0.93      0.92        29\n",
            "        2731       1.00      0.83      0.91        12\n",
            "        2732       1.00      1.00      1.00         2\n",
            "        2733       1.00      0.86      0.92        35\n",
            "        2735       0.91      1.00      0.95        20\n",
            "        2736       0.00      0.00      0.00         3\n",
            "        2737       1.00      0.22      0.36        18\n",
            "        2738       1.00      0.40      0.57         5\n",
            "        2739       0.93      0.90      0.92        31\n",
            "        2740       0.65      0.75      0.70        32\n",
            "        2741       0.74      0.85      0.79        54\n",
            "        2742       0.91      0.94      0.93        34\n",
            "        2743       0.90      0.96      0.93        28\n",
            "        2744       0.55      0.84      0.66        76\n",
            "        2745       1.00      0.33      0.50         9\n",
            "        2746       1.00      0.17      0.29         6\n",
            "        2747       0.43      0.50      0.46        58\n",
            "        2748       0.92      0.87      0.89        38\n",
            "        2750       1.00      0.25      0.40         4\n",
            "        2751       1.00      0.43      0.60         7\n",
            "        2752       0.84      0.88      0.86        42\n",
            "        2753       0.78      0.42      0.55        33\n",
            "        2754       0.94      0.89      0.91        66\n",
            "        2755       0.68      0.70      0.69        99\n",
            "        2756       1.00      0.22      0.36         9\n",
            "        2757       0.94      0.63      0.76        27\n",
            "        2758       0.64      0.66      0.65        41\n",
            "        2759       0.83      0.45      0.59        11\n",
            "        2760       1.00      0.38      0.56        13\n",
            "        2761       0.81      0.44      0.57        59\n",
            "        2762       0.33      0.17      0.22         6\n",
            "        2763       0.90      0.64      0.75        56\n",
            "        2764       0.68      0.76      0.72        17\n",
            "        2765       0.25      0.14      0.18        14\n",
            "        2766       0.50      0.04      0.07        28\n",
            "        2767       0.92      0.89      0.91        38\n",
            "        2768       0.50      0.40      0.44         5\n",
            "        2769       0.68      0.67      0.67       166\n",
            "        2771       0.81      0.74      0.78        70\n",
            "        2774       0.75      0.27      0.40        11\n",
            "        2775       0.78      0.52      0.62        91\n",
            "        2776       0.00      0.00      0.00         4\n",
            "        2777       0.95      0.87      0.90        60\n",
            "        2778       0.89      0.74      0.81        43\n",
            "        2781       0.82      0.56      0.67        16\n",
            "        2782       1.00      0.67      0.80         3\n",
            "        2783       0.00      0.00      0.00         8\n",
            "        2784       0.55      0.75      0.63         8\n",
            "        2785       0.00      0.00      0.00         1\n",
            "        2787       1.00      1.00      1.00         6\n",
            "        2788       0.00      0.00      0.00         6\n",
            "        2789       0.00      0.00      0.00         5\n",
            "        2790       1.00      0.67      0.80         3\n",
            "        2791       0.92      0.80      0.86        15\n",
            "        2793       0.00      0.00      0.00         5\n",
            "        2794       0.00      0.00      0.00         1\n",
            "        2795       0.50      0.33      0.40         3\n",
            "        2796       1.00      0.43      0.60         7\n",
            "        2802       0.83      0.38      0.53        13\n",
            "        2803       0.82      0.92      0.86       122\n",
            "        2804       0.66      0.69      0.67       118\n",
            "        2805       1.00      0.22      0.36         9\n",
            "        2824       0.67      0.75      0.71        40\n",
            "        2825       0.80      0.71      0.75        17\n",
            "        2827       0.50      0.07      0.12        15\n",
            "        2829       0.00      0.00      0.00         4\n",
            "        2831       0.00      0.00      0.00         1\n",
            "        2833       0.67      0.14      0.24        14\n",
            "        2837       0.75      0.55      0.63        11\n",
            "        2838       0.86      0.35      0.50        17\n",
            "        2840       0.00      0.00      0.00         8\n",
            "        2842       0.00      0.00      0.00         1\n",
            "        2844       0.00      0.00      0.00         1\n",
            "        2846       0.00      0.00      0.00         1\n",
            "        2850       0.00      0.00      0.00         2\n",
            "        2851       0.00      0.00      0.00         6\n",
            "        2857       0.00      0.00      0.00         4\n",
            "        2858       1.00      0.67      0.80         3\n",
            "        2861       0.00      0.00      0.00         1\n",
            "        2864       1.00      0.89      0.94         9\n",
            "        2865       1.00      0.77      0.87        13\n",
            "        2880       1.00      0.38      0.55         8\n",
            "        2881       0.83      0.71      0.77         7\n",
            "        2882       0.00      0.00      0.00         4\n",
            "        2890       0.70      0.94      0.80        35\n",
            "        2895       1.00      0.33      0.50         3\n",
            "        2896       1.00      0.44      0.62         9\n",
            "        2897       1.00      0.25      0.40         4\n",
            "        2898       0.00      0.00      0.00         4\n",
            "       10309       0.93      0.50      0.65        28\n",
            "       10868       0.00      0.00      0.00         6\n",
            "       10912       0.00      0.00      0.00         4\n",
            "       11018       0.50      0.29      0.36         7\n",
            "       11508       0.53      0.68      0.60        25\n",
            "       11533       0.90      0.75      0.82        12\n",
            "       11536       0.00      0.00      0.00         4\n",
            "       11539       0.00      0.00      0.00         2\n",
            "       11542       0.00      0.00      0.00         4\n",
            "       11548       0.00      0.00      0.00         2\n",
            "       11549       0.00      0.00      0.00         1\n",
            "       11560       0.77      0.95      0.85        21\n",
            "       11565       0.00      0.00      0.00         2\n",
            "       11568       1.00      0.90      0.95        10\n",
            "       11573       1.00      0.17      0.29        12\n",
            "       11575       0.25      0.33      0.29        21\n",
            "       11581       0.30      0.35      0.32        26\n",
            "       11584       0.00      0.00      0.00         1\n",
            "       11587       1.00      0.94      0.97        31\n",
            "       11594       0.00      0.00      0.00         1\n",
            "       11602       0.55      0.55      0.55        22\n",
            "       11619       1.00      0.43      0.60         7\n",
            "       11622       0.85      1.00      0.92        11\n",
            "       11624       0.00      0.00      0.00         3\n",
            "       11636       0.71      0.92      0.80        13\n",
            "       11637       0.43      0.64      0.51        14\n",
            "       11644       1.00      0.50      0.67         2\n",
            "       11645       1.00      0.14      0.25         7\n",
            "       11648       0.67      0.55      0.60        29\n",
            "       11649       1.00      0.33      0.50         6\n",
            "       11652       0.00      0.00      0.00         1\n",
            "       11657       0.89      0.73      0.80        11\n",
            "       11658       0.85      0.73      0.79        15\n",
            "       11659       1.00      0.31      0.47        13\n",
            "       11670       1.00      0.40      0.57         5\n",
            "       11672       1.00      0.50      0.67         6\n",
            "       11674       0.70      0.58      0.64        12\n",
            "       11678       0.67      0.33      0.44         6\n",
            "       11686       1.00      0.57      0.73        14\n",
            "       11694       1.00      0.08      0.14        13\n",
            "       11708       0.00      0.00      0.00         3\n",
            "       11714       0.75      0.18      0.29        17\n",
            "       11717       1.00      0.70      0.82        10\n",
            "       11731       0.84      0.55      0.67        29\n",
            "       11733       0.60      0.50      0.55         6\n",
            "       11735       0.70      0.58      0.64        12\n",
            "       11743       1.00      0.33      0.50         9\n",
            "       11749       0.00      0.00      0.00         1\n",
            "       11752       0.00      0.00      0.00         2\n",
            "       11756       0.71      0.88      0.78        58\n",
            "       11757       0.81      0.94      0.87       185\n",
            "       11762       0.73      0.77      0.75        31\n",
            "       11764       1.00      0.29      0.44         7\n",
            "       11774       0.43      0.65      0.52        23\n",
            "       11778       1.00      0.75      0.86        16\n",
            "       11782       0.00      0.00      0.00         1\n",
            "       11790       0.90      0.88      0.89        72\n",
            "       11805       0.80      0.55      0.65        29\n",
            "       11818       0.00      0.00      0.00         1\n",
            "       11820       0.33      0.25      0.29         4\n",
            "       11824       0.00      0.00      0.00         2\n",
            "       11825       0.88      0.88      0.88        24\n",
            "       11826       1.00      0.90      0.95        21\n",
            "       11828       0.50      0.20      0.29        15\n",
            "       11836       1.00      0.50      0.67        18\n",
            "       11838       0.85      0.71      0.77        24\n",
            "       11846       0.40      0.18      0.25        11\n",
            "       11847       0.00      0.00      0.00         4\n",
            "       11848       1.00      0.20      0.33         5\n",
            "       11850       0.00      0.00      0.00         3\n",
            "       11861       0.97      0.94      0.96        35\n",
            "       11864       0.62      0.50      0.56        10\n",
            "       11875       0.00      0.00      0.00         1\n",
            "       11879       0.00      0.00      0.00         2\n",
            "       11881       0.78      0.58      0.67        24\n",
            "       11889       0.86      0.63      0.73        19\n",
            "       11896       0.75      0.38      0.50        16\n",
            "       11897       0.00      0.00      0.00         5\n",
            "       11899       0.00      0.00      0.00         7\n",
            "       11901       0.00      0.00      0.00         3\n",
            "       11902       1.00      0.80      0.89        10\n",
            "       11904       1.00      0.44      0.62         9\n",
            "       11913       0.00      0.00      0.00         1\n",
            "       11924       0.00      0.00      0.00        31\n",
            "       11928       0.00      0.00      0.00         1\n",
            "       11930       1.00      0.92      0.96        13\n",
            "       11931       0.88      0.93      0.91        46\n",
            "       11934       0.89      0.73      0.80        11\n",
            "       11935       1.00      0.50      0.67         2\n",
            "       11937       0.90      1.00      0.95      1617\n",
            "       11939       0.93      0.81      0.87        32\n",
            "       11942       0.00      0.00      0.00         4\n",
            "       11956       0.71      0.93      0.81       190\n",
            "       11958       0.00      0.00      0.00         3\n",
            "       11961       0.00      0.00      0.00         2\n",
            "       11962       0.73      0.85      0.79        13\n",
            "       11967       1.00      0.86      0.92        14\n",
            "       11968       0.00      0.00      0.00         7\n",
            "       11975       0.00      0.00      0.00         7\n",
            "       11977       0.00      0.00      0.00         1\n",
            "       11978       1.00      0.46      0.63        24\n",
            "       11980       0.00      0.00      0.00         5\n",
            "       11983       0.00      0.00      0.00         2\n",
            "       11987       1.00      0.33      0.50         3\n",
            "       11988       0.00      0.00      0.00         1\n",
            "       11998       1.00      0.25      0.40         8\n",
            "       11999       0.73      0.80      0.76        30\n",
            "       12001       0.67      0.29      0.40         7\n",
            "       12004       1.00      0.58      0.74        12\n",
            "       12024       0.52      0.58      0.55        19\n",
            "       12039       0.00      0.00      0.00         6\n",
            "       12044       0.84      0.98      0.91        63\n",
            "       12045       0.80      0.19      0.31        21\n",
            "       12049       0.72      0.89      0.79       140\n",
            "       12052       0.83      0.50      0.62        10\n",
            "       12053       0.00      0.00      0.00         2\n",
            "       12062       0.67      0.21      0.32        19\n",
            "       12069       0.00      0.00      0.00         2\n",
            "       12076       0.92      0.80      0.86        30\n",
            "       12077       1.00      0.33      0.50         3\n",
            "       12082       0.57      0.73      0.64        71\n",
            "       12084       0.00      0.00      0.00         4\n",
            "       12085       1.00      0.67      0.80        15\n",
            "       12088       0.61      0.61      0.61        18\n",
            "       12091       1.00      0.86      0.92         7\n",
            "       12092       0.00      0.00      0.00         4\n",
            "       12094       0.00      0.00      0.00         3\n",
            "       12100       0.94      0.98      0.96       128\n",
            "       12102       0.00      0.00      0.00         3\n",
            "       12111       1.00      0.50      0.67         4\n",
            "       12116       0.00      0.00      0.00         1\n",
            "       12120       0.00      0.00      0.00         3\n",
            "       12128       0.60      0.78      0.68        27\n",
            "       12139       0.00      0.00      0.00         8\n",
            "       12142       1.00      0.45      0.62        11\n",
            "       12147       0.80      0.67      0.73         6\n",
            "       12150       0.00      0.00      0.00         2\n",
            "       12157       0.86      0.86      0.86        43\n",
            "       12158       1.00      0.57      0.73         7\n",
            "       12161       0.84      0.58      0.69        36\n",
            "       12164       0.95      0.91      0.93        22\n",
            "       12171       0.82      0.96      0.89       250\n",
            "       12172       0.25      1.00      0.40         1\n",
            "       12175       0.86      0.83      0.84        23\n",
            "       12176       0.85      0.95      0.90        60\n",
            "       12186       1.00      0.86      0.92         7\n",
            "       12192       0.00      0.00      0.00        10\n",
            "       12197       0.84      0.84      0.84        31\n",
            "       12199       0.00      0.00      0.00         5\n",
            "       12210       0.95      0.93      0.94       128\n",
            "       12222       0.86      0.96      0.91       185\n",
            "       12223       1.00      0.17      0.29         6\n",
            "       12237       0.00      0.00      0.00         4\n",
            "       12238       1.00      0.17      0.29        18\n",
            "       12240       0.00      0.00      0.00         1\n",
            "       12243       0.00      0.00      0.00         2\n",
            "       12246       0.83      0.74      0.78        34\n",
            "       12249       0.83      0.83      0.83         6\n",
            "       12250       0.71      0.76      0.73        58\n",
            "       12252       1.00      0.90      0.95        10\n",
            "       12255       0.86      0.46      0.60        13\n",
            "       12262       0.00      0.00      0.00         6\n",
            "       12265       0.80      0.97      0.88        62\n",
            "       12266       0.31      0.16      0.21        49\n",
            "       12267       0.70      0.90      0.79        21\n",
            "       12268       0.80      0.60      0.69        20\n",
            "       12271       0.00      0.00      0.00         6\n",
            "       12272       0.86      0.93      0.89        84\n",
            "       12273       1.00      0.71      0.83        17\n",
            "       12279       0.67      0.50      0.57         4\n",
            "       12282       0.79      0.77      0.78       128\n",
            "       12285       0.50      0.75      0.60         4\n",
            "       12287       0.25      0.12      0.17         8\n",
            "       12301       0.90      0.99      0.94       225\n",
            "       12304       0.00      0.00      0.00         4\n",
            "       12309       0.00      0.00      0.00         3\n",
            "       12314       1.00      0.12      0.22         8\n",
            "       12317       0.00      0.00      0.00         3\n",
            "       12318       0.00      0.00      0.00         3\n",
            "       12321       0.00      0.00      0.00         2\n",
            "       12324       0.75      0.60      0.67         5\n",
            "       12327       1.00      0.10      0.18        10\n",
            "       12328       0.91      0.32      0.48        31\n",
            "       12329       0.00      0.00      0.00         4\n",
            "       12337       0.78      0.44      0.56        16\n",
            "       12338       0.96      0.82      0.88        28\n",
            "       12345       0.00      0.00      0.00         3\n",
            "       12352       0.65      0.89      0.76        38\n",
            "       12357       0.59      0.86      0.70        35\n",
            "       12374       0.87      0.88      0.87       102\n",
            "       12376       1.00      0.36      0.53        11\n",
            "       12379       1.00      0.50      0.67        10\n",
            "       12380       0.00      0.00      0.00         2\n",
            "       12381       0.73      0.76      0.74       143\n",
            "       12382       1.00      0.33      0.50         3\n",
            "       12384       0.00      0.00      0.00         2\n",
            "       12400       0.76      0.86      0.81        58\n",
            "       12407       0.87      0.67      0.75        30\n",
            "       12415       0.65      0.98      0.78       123\n",
            "       12422       0.96      0.96      0.96        50\n",
            "       12428       0.00      0.00      0.00         4\n",
            "       12431       0.00      0.00      0.00         2\n",
            "       12433       0.00      0.00      0.00         1\n",
            "       12436       1.00      0.50      0.67         2\n",
            "       12444       0.00      0.00      0.00         1\n",
            "       12456       0.74      0.88      0.81        33\n",
            "       12457       0.00      0.00      0.00         5\n",
            "       12460       0.94      0.89      0.92        19\n",
            "       12469       1.00      0.67      0.80        18\n",
            "       12478       0.76      0.59      0.67        22\n",
            "       12479       0.96      0.72      0.83        36\n",
            "       12481       1.00      0.96      0.98        27\n",
            "       12482       0.71      0.92      0.80        26\n",
            "       12483       1.00      0.89      0.94        19\n",
            "       12486       1.00      0.20      0.33         5\n",
            "       12490       0.82      0.72      0.77        25\n",
            "       12493       0.64      0.74      0.68        34\n",
            "       12494       1.00      0.22      0.36         9\n",
            "       12514       0.92      0.79      0.85        70\n",
            "       12515       0.00      0.00      0.00        10\n",
            "       12517       0.94      0.94      0.94        68\n",
            "       12519       0.00      0.00      0.00         2\n",
            "       12520       0.00      0.00      0.00         4\n",
            "       12523       0.58      0.50      0.54        14\n",
            "       12524       0.62      0.77      0.69        71\n",
            "       12529       0.93      0.72      0.81        18\n",
            "       12530       0.00      0.00      0.00         1\n",
            "       12539       0.86      0.55      0.67        11\n",
            "       12548       0.83      0.86      0.85        58\n",
            "       12553       0.60      0.50      0.55         6\n",
            "       12554       0.00      0.00      0.00         3\n",
            "       12567       1.00      0.11      0.20         9\n",
            "       12569       1.00      0.90      0.95        10\n",
            "       12588       1.00      0.78      0.88        23\n",
            "       12596       0.00      0.00      0.00         4\n",
            "       12601       1.00      1.00      1.00         9\n",
            "       12602       0.00      0.00      0.00         8\n",
            "       12604       0.91      0.99      0.95       314\n",
            "       12605       0.00      0.00      0.00         1\n",
            "       12609       0.00      0.00      0.00         1\n",
            "       12611       0.00      0.00      0.00         3\n",
            "       12612       0.00      0.00      0.00        10\n",
            "       12615       0.00      0.00      0.00         1\n",
            "       12622       0.00      0.00      0.00         1\n",
            "       12624       0.80      0.29      0.42        14\n",
            "       12630       0.84      0.97      0.90       274\n",
            "       12635       0.00      0.00      0.00         1\n",
            "       12637       0.00      0.00      0.00         4\n",
            "       12638       0.67      0.89      0.76         9\n",
            "       12640       0.33      0.86      0.47       116\n",
            "       12641       0.00      0.00      0.00         3\n",
            "       12646       0.00      0.00      0.00         8\n",
            "       12647       0.90      0.64      0.75        14\n",
            "       12649       1.00      0.50      0.67        10\n",
            "       12652       0.85      0.88      0.87        33\n",
            "       12657       0.84      0.88      0.86        59\n",
            "       12658       0.75      0.63      0.69        19\n",
            "       12661       0.00      0.00      0.00         1\n",
            "       12664       0.00      0.00      0.00         4\n",
            "       12665       0.00      0.00      0.00         3\n",
            "       12667       0.67      0.79      0.73        47\n",
            "       12669       0.98      0.93      0.95        43\n",
            "       12674       0.90      0.70      0.79        27\n",
            "       12683       0.78      0.89      0.83        61\n",
            "       12686       0.00      0.00      0.00         3\n",
            "       12690       0.78      1.00      0.88        90\n",
            "       12696       0.00      0.00      0.00         6\n",
            "       12697       1.00      0.86      0.92        14\n",
            "       12701       0.00      0.00      0.00         3\n",
            "       12709       0.97      0.89      0.93        38\n",
            "       12713       0.60      0.80      0.69        15\n",
            "       12718       0.77      0.90      0.83        30\n",
            "       12721       0.83      0.37      0.51        27\n",
            "       12725       0.00      0.00      0.00         4\n",
            "       12726       0.00      0.00      0.00         8\n",
            "       12730       0.50      0.23      0.31        22\n",
            "       12731       0.64      0.90      0.75        72\n",
            "       12741       0.66      0.92      0.77       109\n",
            "       12743       0.92      0.67      0.77        36\n",
            "       12747       1.00      0.50      0.67         6\n",
            "       12755       0.95      0.96      0.95        77\n",
            "       12763       1.00      0.14      0.25         7\n",
            "       12768       0.82      0.67      0.74        21\n",
            "       12769       0.00      0.00      0.00         6\n",
            "       12771       1.00      0.83      0.91         6\n",
            "       12773       1.00      0.22      0.36         9\n",
            "       12774       0.20      0.67      0.31         3\n",
            "       12775       1.00      0.40      0.57         5\n",
            "       12776       0.00      0.00      0.00         1\n",
            "       12781       0.90      0.98      0.94       105\n",
            "       12788       1.00      0.50      0.67         6\n",
            "       12797       0.00      0.00      0.00         2\n",
            "       12802       0.00      0.00      0.00         1\n",
            "       12811       0.00      0.00      0.00         7\n",
            "       12828       1.00      0.88      0.94        17\n",
            "       12834       0.70      0.92      0.79       120\n",
            "       12841       0.77      0.91      0.84        70\n",
            "       12851       1.00      0.67      0.80         6\n",
            "       12860       0.00      0.00      0.00         1\n",
            "       12862       0.00      0.00      0.00         4\n",
            "       12863       0.57      0.68      0.62        38\n",
            "       12865       0.00      0.00      0.00         1\n",
            "       12869       1.00      0.80      0.89        20\n",
            "       12883       0.58      0.60      0.59        55\n",
            "       12884       0.00      0.00      0.00         3\n",
            "       12887       1.00      0.33      0.50         3\n",
            "       12896       0.00      0.00      0.00         6\n",
            "       12907       1.00      0.70      0.82        10\n",
            "       12908       0.32      0.19      0.24        42\n",
            "       12909       0.40      0.26      0.31        54\n",
            "       12910       0.62      0.50      0.56        10\n",
            "       12913       0.85      0.74      0.79        31\n",
            "       12914       0.81      0.92      0.86       104\n",
            "       12919       0.79      0.96      0.86        23\n",
            "       12928       0.00      0.00      0.00         4\n",
            "       12930       1.00      0.75      0.86         4\n",
            "       12936       0.00      0.00      0.00         1\n",
            "       12943       0.88      0.98      0.93        45\n",
            "       12945       0.00      0.00      0.00         1\n",
            "       12952       0.92      0.52      0.67        23\n",
            "       12956       1.00      0.56      0.71        18\n",
            "       12961       1.00      0.20      0.33         5\n",
            "       12964       0.85      0.67      0.75        58\n",
            "       12967       0.00      0.00      0.00         1\n",
            "       12971       0.00      0.00      0.00         1\n",
            "       12975       0.00      0.00      0.00         2\n",
            "       12977       0.00      0.00      0.00         1\n",
            "       12980       0.80      0.98      0.88       321\n",
            "       12987       0.00      0.00      0.00         7\n",
            "       12992       0.00      0.00      0.00        13\n",
            "       12993       0.00      0.00      0.00         6\n",
            "       12998       0.00      0.00      0.00         2\n",
            "       13000       1.00      0.40      0.57         5\n",
            "       13019       0.00      0.00      0.00         3\n",
            "       13024       0.70      0.93      0.80        30\n",
            "       13027       0.88      0.97      0.92        36\n",
            "       13028       0.97      0.98      0.98       130\n",
            "       13033       0.57      0.10      0.16        42\n",
            "       13040       1.00      1.00      1.00         2\n",
            "       13043       0.87      0.93      0.90        28\n",
            "       13052       0.00      0.00      0.00         2\n",
            "       13066       0.87      0.78      0.83        79\n",
            "       13068       1.00      0.11      0.20         9\n",
            "       13069       0.38      0.60      0.47        30\n",
            "       13072       1.00      0.53      0.69        17\n",
            "       13076       0.62      0.76      0.68        21\n",
            "       13083       0.85      0.95      0.89        76\n",
            "       13088       0.00      0.00      0.00         2\n",
            "       13094       0.83      0.88      0.85        65\n",
            "       13095       0.79      0.84      0.82        50\n",
            "       13098       0.00      0.00      0.00         4\n",
            "       13100       0.67      0.40      0.50        10\n",
            "       13104       0.91      0.67      0.77        15\n",
            "       13105       0.00      0.00      0.00         1\n",
            "       13121       0.00      0.00      0.00         2\n",
            "       13135       1.00      0.33      0.50         3\n",
            "       13137       0.00      0.00      0.00         1\n",
            "       13138       0.00      0.00      0.00         2\n",
            "       13143       0.72      0.92      0.81       379\n",
            "       13148       0.81      0.87      0.84        45\n",
            "       13150       0.00      0.00      0.00         6\n",
            "       13152       0.28      0.10      0.14        82\n",
            "       13153       1.00      0.33      0.50         3\n",
            "       13157       0.50      1.00      0.67         2\n",
            "       13159       0.89      0.62      0.73        13\n",
            "       13169       0.00      0.00      0.00         1\n",
            "       13170       0.40      0.18      0.25        11\n",
            "       13171       0.62      0.28      0.38        18\n",
            "       13172       1.00      0.20      0.33         5\n",
            "       13178       0.87      0.82      0.84        49\n",
            "       13182       0.84      1.00      0.91        41\n",
            "       13187       0.86      0.99      0.92        74\n",
            "       13188       0.00      0.00      0.00         5\n",
            "       13190       1.00      0.17      0.29        12\n",
            "       13199       0.79      0.79      0.79        24\n",
            "       13205       0.60      0.64      0.62        42\n",
            "       13208       0.00      0.00      0.00         2\n",
            "       13210       0.00      0.00      0.00         1\n",
            "       13212       0.00      0.00      0.00         2\n",
            "       13215       1.00      1.00      1.00        11\n",
            "       13217       0.00      0.00      0.00         3\n",
            "       13220       0.68      0.78      0.73        46\n",
            "       13227       0.00      0.00      0.00         8\n",
            "       13228       0.75      0.64      0.69        14\n",
            "       13230       1.00      0.92      0.96        12\n",
            "       13234       0.00      0.00      0.00         1\n",
            "       13241       0.00      0.00      0.00         1\n",
            "       13253       0.71      0.78      0.74       250\n",
            "       13258       0.00      0.00      0.00         1\n",
            "       13259       0.00      0.00      0.00         1\n",
            "       13260       0.72      0.88      0.79        24\n",
            "       13263       0.85      0.96      0.90        47\n",
            "       13271       0.91      0.81      0.85        36\n",
            "       13273       0.00      0.00      0.00         6\n",
            "       13277       0.91      0.67      0.77        30\n",
            "       13289       0.00      0.00      0.00         1\n",
            "       13297       0.55      0.25      0.34        24\n",
            "       13299       0.79      0.92      0.85        25\n",
            "       13302       1.00      0.68      0.81        25\n",
            "       13304       1.00      0.71      0.83         7\n",
            "       13306       0.67      0.29      0.40        14\n",
            "       13307       0.00      0.00      0.00         1\n",
            "       13310       0.00      0.00      0.00        11\n",
            "       13322       0.91      1.00      0.95        20\n",
            "       13324       0.57      0.31      0.40        26\n",
            "       13325       1.00      0.60      0.75         5\n",
            "       13327       0.89      0.85      0.87        20\n",
            "       13328       1.00      0.17      0.29         6\n",
            "       13337       0.00      0.00      0.00        10\n",
            "       13342       0.00      0.00      0.00         2\n",
            "       13346       0.00      0.00      0.00         4\n",
            "       13350       1.00      0.36      0.53        11\n",
            "       13352       0.50      0.67      0.57        36\n",
            "       13358       0.87      0.96      0.91        81\n",
            "       13362       0.74      0.66      0.70        53\n",
            "       13366       0.79      0.96      0.87        24\n",
            "       13367       1.00      0.25      0.40         8\n",
            "       13369       0.00      0.00      0.00         2\n",
            "       13370       0.00      0.00      0.00        28\n",
            "       13371       0.00      0.00      0.00         9\n",
            "       13373       0.82      0.82      0.82        22\n",
            "       13376       0.67      0.40      0.50         5\n",
            "       13377       0.00      0.00      0.00         8\n",
            "       13381       0.91      0.96      0.93        90\n",
            "       13384       0.62      0.88      0.73        26\n",
            "       13389       1.00      0.55      0.71        11\n",
            "       13390       0.00      0.00      0.00         8\n",
            "       13407       0.81      0.97      0.88       284\n",
            "       13409       1.00      0.29      0.44         7\n",
            "       13414       1.00      0.14      0.25         7\n",
            "       13415       0.00      0.00      0.00         2\n",
            "       13420       0.00      0.00      0.00         4\n",
            "       13423       0.00      0.00      0.00         1\n",
            "       13424       1.00      0.45      0.62        11\n",
            "       13425       0.67      0.50      0.57         4\n",
            "       13427       0.92      1.00      0.96        11\n",
            "       13429       0.80      0.99      0.88        97\n",
            "       13433       0.00      0.00      0.00         4\n",
            "       13434       0.00      0.00      0.00         7\n",
            "       13439       0.00      0.00      0.00         2\n",
            "       13445       0.00      0.00      0.00         1\n",
            "       13451       0.58      0.62      0.60        45\n",
            "       13453       1.00      0.91      0.95        11\n",
            "       13462       0.00      0.00      0.00         9\n",
            "       13464       0.00      0.00      0.00         1\n",
            "       13469       1.00      0.44      0.62         9\n",
            "       13474       1.00      0.06      0.11        17\n",
            "       13485       0.00      0.00      0.00         2\n",
            "       13493       1.00      0.83      0.91         6\n",
            "       13495       0.88      0.97      0.92       189\n",
            "       13497       1.00      0.55      0.71        11\n",
            "       13504       0.00      0.00      0.00         3\n",
            "       13509       0.88      0.95      0.92        85\n",
            "       13511       0.68      0.80      0.74        35\n",
            "       13515       0.58      0.44      0.50        16\n",
            "       13520       0.00      0.00      0.00         8\n",
            "       13529       0.00      0.00      0.00         1\n",
            "       13532       0.00      0.00      0.00         3\n",
            "       13533       0.97      1.00      0.99        38\n",
            "       13537       0.72      0.53      0.61        43\n",
            "       13540       0.00      0.00      0.00         2\n",
            "       13545       1.00      0.40      0.57        10\n",
            "       13547       0.00      0.00      0.00         4\n",
            "       13549       0.00      0.00      0.00         2\n",
            "       13551       0.00      0.00      0.00         1\n",
            "       13554       0.65      0.97      0.78        91\n",
            "       13555       0.00      0.00      0.00         3\n",
            "       13558       0.00      0.00      0.00         6\n",
            "       13562       0.00      0.00      0.00         1\n",
            "       13564       0.00      0.00      0.00         5\n",
            "       13568       0.00      0.00      0.00         3\n",
            "       13571       0.73      0.96      0.83       294\n",
            "       13581       1.00      0.33      0.50         3\n",
            "       13588       0.00      0.00      0.00         6\n",
            "       13589       0.65      0.42      0.51        26\n",
            "       13594       0.70      0.59      0.64        27\n",
            "       13607       0.00      0.00      0.00         4\n",
            "       13608       0.00      0.00      0.00         4\n",
            "       13611       0.00      0.00      0.00         8\n",
            "       13613       0.89      0.85      0.87        20\n",
            "       13615       0.80      0.57      0.67        14\n",
            "       13616       0.81      0.78      0.79        32\n",
            "       13632       0.00      0.00      0.00         2\n",
            "       13647       0.00      0.00      0.00         4\n",
            "       13648       0.74      0.67      0.70        21\n",
            "       13651       0.26      0.79      0.40       360\n",
            "       13658       1.00      0.83      0.91         6\n",
            "       13661       0.00      0.00      0.00         2\n",
            "       13665       0.50      0.25      0.33         4\n",
            "       13667       0.00      0.00      0.00         1\n",
            "       13672       0.81      0.92      0.86        24\n",
            "       13674       0.69      0.86      0.76        84\n",
            "       13678       0.63      0.81      0.71        21\n",
            "       13679       0.00      0.00      0.00         4\n",
            "       13682       0.00      0.00      0.00         2\n",
            "       13684       1.00      0.16      0.28        25\n",
            "       13685       1.00      0.19      0.32        16\n",
            "       13693       1.00      1.00      1.00         1\n",
            "       13700       0.50      0.10      0.17        10\n",
            "       13704       0.79      1.00      0.88        19\n",
            "       13707       0.00      0.00      0.00         3\n",
            "       13714       0.64      0.48      0.55        29\n",
            "       13715       1.00      0.25      0.40         4\n",
            "       13726       0.91      0.67      0.77        15\n",
            "       13727       0.75      0.50      0.60        12\n",
            "       13739       0.00      0.00      0.00         1\n",
            "       13742       0.00      0.00      0.00        11\n",
            "       13744       0.00      0.00      0.00         3\n",
            "       13745       0.61      0.85      0.71        80\n",
            "       13749       0.00      0.00      0.00         4\n",
            "       13755       1.00      0.37      0.54        30\n",
            "       13765       0.00      0.00      0.00         1\n",
            "       13770       0.60      0.25      0.35        24\n",
            "       13775       0.60      0.60      0.60         5\n",
            "       13776       0.00      0.00      0.00         2\n",
            "       13781       0.80      0.36      0.50        11\n",
            "       13786       0.86      0.94      0.90        69\n",
            "       13788       0.00      0.00      0.00         9\n",
            "       13795       0.79      0.94      0.86        49\n",
            "       13798       1.00      0.88      0.94        17\n",
            "       13799       0.79      0.91      0.85        55\n",
            "       13802       0.00      0.00      0.00         1\n",
            "       13803       0.26      0.23      0.24        31\n",
            "       13814       0.00      0.00      0.00         1\n",
            "       13821       0.94      0.76      0.84        21\n",
            "       13823       0.00      0.00      0.00         4\n",
            "       13831       0.50      0.20      0.29         5\n",
            "       13833       1.00      0.79      0.88        19\n",
            "       13835       0.92      0.84      0.88        86\n",
            "       13839       0.55      0.67      0.60         9\n",
            "       13844       0.00      0.00      0.00         7\n",
            "       13847       1.00      0.69      0.82        13\n",
            "       13851       0.00      0.00      0.00         1\n",
            "       13852       0.00      0.00      0.00         4\n",
            "       13856       0.47      0.64      0.54        11\n",
            "       13860       0.00      0.00      0.00         1\n",
            "       13869       0.17      0.33      0.22         3\n",
            "       13873       0.00      0.00      0.00         8\n",
            "       13879       1.00      0.83      0.91         6\n",
            "       13885       1.00      0.62      0.77         8\n",
            "       13887       0.57      0.50      0.53        26\n",
            "       13890       0.50      0.50      0.50         4\n",
            "       13893       1.00      0.36      0.53        11\n",
            "       13894       0.33      0.25      0.29         8\n",
            "       13895       1.00      0.12      0.22         8\n",
            "       13901       0.82      0.80      0.81        70\n",
            "       13904       1.00      0.30      0.46        20\n",
            "       13905       0.92      0.67      0.77        18\n",
            "       13912       1.00      0.50      0.67         4\n",
            "       13918       0.94      0.98      0.96        50\n",
            "       13921       0.00      0.00      0.00         1\n",
            "       13932       0.00      0.00      0.00         1\n",
            "       13936       0.00      0.00      0.00         6\n",
            "       13939       0.00      0.00      0.00         3\n",
            "       13946       1.00      0.57      0.73         7\n",
            "       13948       1.00      0.58      0.73        31\n",
            "       13950       0.00      0.00      0.00         1\n",
            "       13954       0.62      0.72      0.67       108\n",
            "       13956       0.92      0.81      0.86        27\n",
            "       13968       1.00      0.25      0.40         4\n",
            "       13973       1.00      0.33      0.50         6\n",
            "       13975       0.00      0.00      0.00         2\n",
            "       13976       0.50      0.30      0.37        10\n",
            "       13982       0.57      0.85      0.68        48\n",
            "       13983       0.64      0.81      0.72        42\n",
            "       13986       1.00      0.69      0.82        13\n",
            "       13987       0.00      0.00      0.00         2\n",
            "       13994       1.00      0.50      0.67         6\n",
            "       14000       0.00      0.00      0.00        12\n",
            "       14003       0.82      0.85      0.83        88\n",
            "       14005       0.00      0.00      0.00         3\n",
            "       14008       0.50      0.14      0.22         7\n",
            "       14011       0.88      0.88      0.88        17\n",
            "       14014       0.62      0.69      0.65        49\n",
            "       14018       1.00      1.00      1.00         2\n",
            "       14019       1.00      0.83      0.91        18\n",
            "       14023       0.80      0.80      0.80         5\n",
            "       14030       0.71      0.93      0.81        72\n",
            "       14036       0.97      1.00      0.99        33\n",
            "       14037       0.94      0.94      0.94        86\n",
            "       14038       0.00      0.00      0.00         2\n",
            "       14046       0.00      0.00      0.00         2\n",
            "       14049       1.00      0.06      0.11        17\n",
            "       14050       0.51      0.90      0.65        41\n",
            "       14060       0.00      0.00      0.00         1\n",
            "       14064       0.00      0.00      0.00         5\n",
            "       14065       0.88      0.56      0.68        25\n",
            "       14067       0.00      0.00      0.00         3\n",
            "       14088       0.00      0.00      0.00         2\n",
            "       14094       0.50      0.09      0.15        11\n",
            "       14095       0.75      0.39      0.51        23\n",
            "       14097       0.00      0.00      0.00         3\n",
            "       14099       0.56      0.29      0.38        49\n",
            "       14103       0.63      0.90      0.74        29\n",
            "       14110       0.00      0.00      0.00         4\n",
            "       14111       0.91      0.90      0.91        48\n",
            "       14117       0.00      0.00      0.00         1\n",
            "       14119       0.00      0.00      0.00         2\n",
            "       14132       0.17      0.33      0.22         3\n",
            "       14140       0.00      0.00      0.00        11\n",
            "       14143       1.00      1.00      1.00         1\n",
            "       14149       1.00      0.20      0.33        10\n",
            "       14153       1.00      0.70      0.82        23\n",
            "       14158       0.72      0.64      0.68        28\n",
            "       14160       0.00      0.00      0.00         7\n",
            "       14161       1.00      0.25      0.40        16\n",
            "       14165       0.00      0.00      0.00         4\n",
            "       14171       0.71      0.38      0.49        32\n",
            "       14172       0.00      0.00      0.00         3\n",
            "       14186       1.00      0.09      0.17        11\n",
            "       14190       0.00      0.00      0.00        31\n",
            "       14191       0.75      0.63      0.69        19\n",
            "       14196       1.00      0.44      0.62         9\n",
            "       14199       0.00      0.00      0.00         2\n",
            "       14205       0.75      0.43      0.55         7\n",
            "       14207       0.00      0.00      0.00         2\n",
            "       14216       0.48      0.65      0.55        17\n",
            "       14221       0.94      0.94      0.94        35\n",
            "       14225       0.77      0.91      0.84       137\n",
            "       14226       0.00      0.00      0.00         1\n",
            "       14233       0.85      1.00      0.92       275\n",
            "       14235       0.87      1.00      0.93        53\n",
            "       14237       0.64      0.91      0.75        55\n",
            "       14238       0.00      0.00      0.00         3\n",
            "       14240       1.00      0.25      0.40         4\n",
            "       14241       0.65      0.85      0.74       147\n",
            "       14242       0.67      0.96      0.79       135\n",
            "       14245       1.00      0.11      0.20         9\n",
            "       14255       1.00      1.00      1.00         3\n",
            "       14258       1.00      1.00      1.00         8\n",
            "       14262       0.67      0.40      0.50        10\n",
            "       14265       0.95      0.78      0.86        27\n",
            "       14269       0.00      0.00      0.00         2\n",
            "       14270       0.00      0.00      0.00         4\n",
            "       14274       0.75      0.89      0.82       103\n",
            "       14277       0.50      0.06      0.11        16\n",
            "       14278       0.86      0.56      0.68        32\n",
            "       14279       0.81      0.94      0.87        51\n",
            "       14365       0.00      0.00      0.00         2\n",
            "       14368       1.00      0.75      0.86        24\n",
            "       14379       1.00      0.06      0.11        17\n",
            "       14388       1.00      0.20      0.33         5\n",
            "       14389       1.00      0.17      0.29         6\n",
            "       14390       0.64      0.94      0.76        67\n",
            "       14391       0.88      0.78      0.82        27\n",
            "       14398       0.00      0.00      0.00         3\n",
            "       14500       1.00      0.20      0.33        10\n",
            "       14502       0.00      0.00      0.00         6\n",
            "       14503       0.93      0.54      0.68        26\n",
            "       14538       0.00      0.00      0.00         2\n",
            "       14539       0.75      0.67      0.71        27\n",
            "       14540       1.00      0.31      0.47        13\n",
            "       14541       0.92      0.84      0.88        69\n",
            "       14546       1.00      0.19      0.32        16\n",
            "       14547       0.00      0.00      0.00         1\n",
            "       14548       0.00      0.00      0.00         1\n",
            "       14549       0.67      0.40      0.50         5\n",
            "       14550       0.00      0.00      0.00         8\n",
            "       14551       0.55      0.71      0.62        17\n",
            "       14553       0.00      0.00      0.00         1\n",
            "       14559       0.83      0.45      0.59        11\n",
            "       14597       0.91      1.00      0.95        10\n",
            "       14600       0.00      0.00      0.00         3\n",
            "       14611       0.95      1.00      0.98        20\n",
            "       14612       1.00      0.57      0.73         7\n",
            "       14613       0.00      0.00      0.00         2\n",
            "       14614       0.85      0.96      0.90        48\n",
            "       14615       1.00      0.40      0.57        10\n",
            "       14674       0.78      0.93      0.85        27\n",
            "       14676       0.80      0.36      0.50        11\n",
            "       14677       0.00      0.00      0.00         5\n",
            "       14678       0.00      0.00      0.00         1\n",
            "       14679       0.00      0.00      0.00         2\n",
            "       14680       0.80      0.73      0.76        11\n",
            "       14681       0.79      0.74      0.76        50\n",
            "       14682       1.00      0.27      0.42        15\n",
            "       14683       0.88      0.88      0.88        26\n",
            "       14685       0.12      0.06      0.08        36\n",
            "       14686       0.83      0.71      0.77        21\n",
            "       14687       0.89      0.94      0.92        18\n",
            "       14688       0.64      0.44      0.52        36\n",
            "       14689       0.67      0.40      0.50         5\n",
            "       14706       0.75      0.38      0.50         8\n",
            "       14732       0.00      0.00      0.00         4\n",
            "       14740       0.00      0.00      0.00         2\n",
            "       14741       0.85      0.61      0.71        18\n",
            "       14742       0.93      0.43      0.59        30\n",
            "       14746       0.00      0.00      0.00         3\n",
            "       14861       0.00      0.00      0.00         5\n",
            "       14862       0.00      0.00      0.00         3\n",
            "       14867       0.92      0.42      0.58        26\n",
            "       14868       0.91      0.71      0.80        14\n",
            "       14869       0.80      0.25      0.38        16\n",
            "       14870       0.00      0.00      0.00         4\n",
            "       14871       0.00      0.00      0.00         7\n",
            "       14872       1.00      0.75      0.86         4\n",
            "       14873       0.67      0.38      0.48        16\n",
            "       14874       0.80      0.85      0.83        39\n",
            "       14875       0.92      0.58      0.71        19\n",
            "       14876       0.94      0.89      0.92        19\n",
            "       14911       0.00      0.00      0.00         5\n",
            "       14922       0.96      0.98      0.97       886\n",
            "       14923       0.71      0.80      0.75        51\n",
            "       14924       0.91      0.81      0.86        26\n",
            "       14927       0.83      0.91      0.87        94\n",
            "       14929       1.00      0.55      0.71        11\n",
            "       14930       1.00      0.42      0.60        33\n",
            "       14931       0.00      0.00      0.00         2\n",
            "       14933       0.44      0.29      0.35        14\n",
            "       14934       0.00      0.00      0.00         2\n",
            "       14938       0.62      0.52      0.56        46\n",
            "       14940       1.00      0.40      0.57         5\n",
            "       14941       0.66      0.70      0.68        27\n",
            "       14942       1.00      0.42      0.59        12\n",
            "       14945       1.00      0.67      0.80        12\n",
            "       14963       0.91      0.95      0.93        21\n",
            "       14968       0.00      0.00      0.00         3\n",
            "       14969       0.90      0.84      0.87        32\n",
            "       14970       0.97      0.88      0.92        34\n",
            "       14981       0.00      0.00      0.00         7\n",
            "       14989       1.00      0.33      0.50         3\n",
            "       14990       0.00      0.00      0.00         4\n",
            "       15023       1.00      0.81      0.90        16\n",
            "       15024       0.85      0.89      0.87        44\n",
            "       15025       0.85      0.49      0.62        35\n",
            "       15026       1.00      0.60      0.75         5\n",
            "       15027       0.70      0.47      0.56        15\n",
            "       15033       0.59      0.32      0.42        31\n",
            "       15034       0.80      0.70      0.75        47\n",
            "       15035       1.00      0.30      0.46        10\n",
            "       15036       0.73      0.46      0.56        35\n",
            "       15037       1.00      0.57      0.73         7\n",
            "       15040       0.00      0.00      0.00         1\n",
            "       15042       0.00      0.00      0.00         2\n",
            "       15047       1.00      0.89      0.94         9\n",
            "       15049       0.00      0.00      0.00         2\n",
            "       15054       1.00      0.79      0.88        14\n",
            "       15055       0.91      0.77      0.83        13\n",
            "       15058       0.94      0.75      0.83        20\n",
            "       15068       1.00      0.62      0.76        13\n",
            "       15075       1.00      0.14      0.25         7\n",
            "       15076       1.00      0.90      0.95        10\n",
            "\n",
            "    accuracy                           0.77     22780\n",
            "   macro avg       0.55      0.42      0.45     22780\n",
            "weighted avg       0.76      0.77      0.74     22780\n",
            "\n"
          ]
        },
        {
          "output_type": "stream",
          "name": "stderr",
          "text": [
            "/usr/local/lib/python3.9/dist-packages/sklearn/metrics/_classification.py:1344: UndefinedMetricWarning: Precision and F-score are ill-defined and being set to 0.0 in labels with no predicted samples. Use `zero_division` parameter to control this behavior.\n",
            "  _warn_prf(average, modifier, msg_start, len(result))\n",
            "/usr/local/lib/python3.9/dist-packages/sklearn/metrics/_classification.py:1344: UndefinedMetricWarning: Precision and F-score are ill-defined and being set to 0.0 in labels with no predicted samples. Use `zero_division` parameter to control this behavior.\n",
            "  _warn_prf(average, modifier, msg_start, len(result))\n",
            "/usr/local/lib/python3.9/dist-packages/sklearn/metrics/_classification.py:1344: UndefinedMetricWarning: Precision and F-score are ill-defined and being set to 0.0 in labels with no predicted samples. Use `zero_division` parameter to control this behavior.\n",
            "  _warn_prf(average, modifier, msg_start, len(result))\n"
          ]
        }
      ]
    }
  ],
  "metadata": {
    "colab": {
      "provenance": []
    },
    "kernelspec": {
      "display_name": "Python 3",
      "name": "python3"
    },
    "language_info": {
      "name": "python"
    }
  },
  "nbformat": 4,
  "nbformat_minor": 0
}